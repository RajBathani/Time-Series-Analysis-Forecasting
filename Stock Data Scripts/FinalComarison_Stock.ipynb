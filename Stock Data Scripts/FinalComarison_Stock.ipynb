{
 "cells": [
  {
   "cell_type": "code",
   "execution_count": 1,
   "metadata": {},
   "outputs": [],
   "source": [
    "import pandas as pd\n",
    "import numpy as np\n",
    "%matplotlib inline"
   ]
  },
  {
   "cell_type": "code",
   "execution_count": 18,
   "metadata": {},
   "outputs": [],
   "source": [
    "df = pd.read_csv(\"C:/Users/RAJ BATHANI/Downloads/TimeSeries Datasets/AMGN_FuturePrices_1month.csv\",index_col = ['Date'], parse_dates = ['Date'])"
   ]
  },
  {
   "cell_type": "code",
   "execution_count": 49,
   "metadata": {},
   "outputs": [
    {
     "data": {
      "text/html": [
       "<div>\n",
       "<style scoped>\n",
       "    .dataframe tbody tr th:only-of-type {\n",
       "        vertical-align: middle;\n",
       "    }\n",
       "\n",
       "    .dataframe tbody tr th {\n",
       "        vertical-align: top;\n",
       "    }\n",
       "\n",
       "    .dataframe thead th {\n",
       "        text-align: right;\n",
       "    }\n",
       "</style>\n",
       "<table border=\"1\" class=\"dataframe\">\n",
       "  <thead>\n",
       "    <tr style=\"text-align: right;\">\n",
       "      <th></th>\n",
       "      <th>Actual</th>\n",
       "      <th>AR</th>\n",
       "      <th>MA</th>\n",
       "      <th>ARIMA</th>\n",
       "      <th>Smoothing</th>\n",
       "      <th>Prophet</th>\n",
       "    </tr>\n",
       "    <tr>\n",
       "      <th>Date</th>\n",
       "      <th></th>\n",
       "      <th></th>\n",
       "      <th></th>\n",
       "      <th></th>\n",
       "      <th></th>\n",
       "      <th></th>\n",
       "    </tr>\n",
       "  </thead>\n",
       "  <tbody>\n",
       "    <tr>\n",
       "      <th>2020-01-02</th>\n",
       "      <td>240.100006</td>\n",
       "      <td>240.75</td>\n",
       "      <td>240.59</td>\n",
       "      <td>240.75</td>\n",
       "      <td>241.16</td>\n",
       "      <td>206.20</td>\n",
       "    </tr>\n",
       "    <tr>\n",
       "      <th>2020-01-03</th>\n",
       "      <td>238.470001</td>\n",
       "      <td>240.66</td>\n",
       "      <td>240.70</td>\n",
       "      <td>240.50</td>\n",
       "      <td>241.28</td>\n",
       "      <td>206.04</td>\n",
       "    </tr>\n",
       "    <tr>\n",
       "      <th>2020-01-06</th>\n",
       "      <td>240.300003</td>\n",
       "      <td>240.60</td>\n",
       "      <td>240.69</td>\n",
       "      <td>240.20</td>\n",
       "      <td>241.39</td>\n",
       "      <td>206.13</td>\n",
       "    </tr>\n",
       "    <tr>\n",
       "      <th>2020-01-07</th>\n",
       "      <td>238.039993</td>\n",
       "      <td>240.62</td>\n",
       "      <td>240.81</td>\n",
       "      <td>239.95</td>\n",
       "      <td>241.51</td>\n",
       "      <td>205.77</td>\n",
       "    </tr>\n",
       "    <tr>\n",
       "      <th>2020-01-08</th>\n",
       "      <td>238.220001</td>\n",
       "      <td>240.52</td>\n",
       "      <td>240.58</td>\n",
       "      <td>239.66</td>\n",
       "      <td>241.62</td>\n",
       "      <td>205.73</td>\n",
       "    </tr>\n",
       "    <tr>\n",
       "      <th>2020-01-09</th>\n",
       "      <td>238.929993</td>\n",
       "      <td>240.47</td>\n",
       "      <td>240.53</td>\n",
       "      <td>239.42</td>\n",
       "      <td>241.74</td>\n",
       "      <td>205.57</td>\n",
       "    </tr>\n",
       "    <tr>\n",
       "      <th>2020-01-10</th>\n",
       "      <td>238.259995</td>\n",
       "      <td>240.48</td>\n",
       "      <td>240.66</td>\n",
       "      <td>239.14</td>\n",
       "      <td>241.86</td>\n",
       "      <td>205.50</td>\n",
       "    </tr>\n",
       "    <tr>\n",
       "      <th>2020-01-13</th>\n",
       "      <td>236.919998</td>\n",
       "      <td>240.40</td>\n",
       "      <td>240.46</td>\n",
       "      <td>238.91</td>\n",
       "      <td>241.97</td>\n",
       "      <td>205.67</td>\n",
       "    </tr>\n",
       "    <tr>\n",
       "      <th>2020-01-14</th>\n",
       "      <td>240.000000</td>\n",
       "      <td>240.16</td>\n",
       "      <td>240.09</td>\n",
       "      <td>238.64</td>\n",
       "      <td>242.09</td>\n",
       "      <td>205.51</td>\n",
       "    </tr>\n",
       "    <tr>\n",
       "      <th>2020-01-15</th>\n",
       "      <td>241.699997</td>\n",
       "      <td>240.18</td>\n",
       "      <td>240.30</td>\n",
       "      <td>238.41</td>\n",
       "      <td>242.20</td>\n",
       "      <td>205.51</td>\n",
       "    </tr>\n",
       "    <tr>\n",
       "      <th>2020-01-16</th>\n",
       "      <td>240.500000</td>\n",
       "      <td>240.14</td>\n",
       "      <td>240.23</td>\n",
       "      <td>238.16</td>\n",
       "      <td>242.32</td>\n",
       "      <td>205.38</td>\n",
       "    </tr>\n",
       "    <tr>\n",
       "      <th>2020-01-17</th>\n",
       "      <td>241.490005</td>\n",
       "      <td>239.87</td>\n",
       "      <td>239.70</td>\n",
       "      <td>237.93</td>\n",
       "      <td>242.43</td>\n",
       "      <td>205.32</td>\n",
       "    </tr>\n",
       "    <tr>\n",
       "      <th>2020-01-21</th>\n",
       "      <td>237.600006</td>\n",
       "      <td>239.50</td>\n",
       "      <td>239.24</td>\n",
       "      <td>237.69</td>\n",
       "      <td>242.55</td>\n",
       "      <td>205.49</td>\n",
       "    </tr>\n",
       "    <tr>\n",
       "      <th>2020-01-22</th>\n",
       "      <td>236.750000</td>\n",
       "      <td>239.50</td>\n",
       "      <td>239.49</td>\n",
       "      <td>237.47</td>\n",
       "      <td>242.67</td>\n",
       "      <td>205.23</td>\n",
       "    </tr>\n",
       "    <tr>\n",
       "      <th>2020-01-23</th>\n",
       "      <td>235.039993</td>\n",
       "      <td>239.53</td>\n",
       "      <td>239.71</td>\n",
       "      <td>237.23</td>\n",
       "      <td>242.78</td>\n",
       "      <td>205.17</td>\n",
       "    </tr>\n",
       "    <tr>\n",
       "      <th>2020-01-24</th>\n",
       "      <td>225.589996</td>\n",
       "      <td>239.44</td>\n",
       "      <td>239.52</td>\n",
       "      <td>237.02</td>\n",
       "      <td>242.90</td>\n",
       "      <td>204.97</td>\n",
       "    </tr>\n",
       "    <tr>\n",
       "      <th>2020-01-27</th>\n",
       "      <td>222.949997</td>\n",
       "      <td>239.35</td>\n",
       "      <td>239.40</td>\n",
       "      <td>236.79</td>\n",
       "      <td>243.01</td>\n",
       "      <td>204.84</td>\n",
       "    </tr>\n",
       "    <tr>\n",
       "      <th>2020-01-28</th>\n",
       "      <td>224.839996</td>\n",
       "      <td>239.35</td>\n",
       "      <td>239.47</td>\n",
       "      <td>236.58</td>\n",
       "      <td>243.13</td>\n",
       "      <td>204.93</td>\n",
       "    </tr>\n",
       "    <tr>\n",
       "      <th>2020-01-29</th>\n",
       "      <td>227.149994</td>\n",
       "      <td>239.36</td>\n",
       "      <td>239.51</td>\n",
       "      <td>236.36</td>\n",
       "      <td>243.24</td>\n",
       "      <td>204.41</td>\n",
       "    </tr>\n",
       "    <tr>\n",
       "      <th>2020-01-30</th>\n",
       "      <td>226.149994</td>\n",
       "      <td>239.27</td>\n",
       "      <td>239.34</td>\n",
       "      <td>236.17</td>\n",
       "      <td>243.36</td>\n",
       "      <td>204.26</td>\n",
       "    </tr>\n",
       "    <tr>\n",
       "      <th>2020-01-31</th>\n",
       "      <td>216.050003</td>\n",
       "      <td>239.28</td>\n",
       "      <td>239.43</td>\n",
       "      <td>235.95</td>\n",
       "      <td>243.48</td>\n",
       "      <td>203.99</td>\n",
       "    </tr>\n",
       "  </tbody>\n",
       "</table>\n",
       "</div>"
      ],
      "text/plain": [
       "                Actual      AR      MA   ARIMA  Smoothing  Prophet\n",
       "Date                                                              \n",
       "2020-01-02  240.100006  240.75  240.59  240.75     241.16   206.20\n",
       "2020-01-03  238.470001  240.66  240.70  240.50     241.28   206.04\n",
       "2020-01-06  240.300003  240.60  240.69  240.20     241.39   206.13\n",
       "2020-01-07  238.039993  240.62  240.81  239.95     241.51   205.77\n",
       "2020-01-08  238.220001  240.52  240.58  239.66     241.62   205.73\n",
       "2020-01-09  238.929993  240.47  240.53  239.42     241.74   205.57\n",
       "2020-01-10  238.259995  240.48  240.66  239.14     241.86   205.50\n",
       "2020-01-13  236.919998  240.40  240.46  238.91     241.97   205.67\n",
       "2020-01-14  240.000000  240.16  240.09  238.64     242.09   205.51\n",
       "2020-01-15  241.699997  240.18  240.30  238.41     242.20   205.51\n",
       "2020-01-16  240.500000  240.14  240.23  238.16     242.32   205.38\n",
       "2020-01-17  241.490005  239.87  239.70  237.93     242.43   205.32\n",
       "2020-01-21  237.600006  239.50  239.24  237.69     242.55   205.49\n",
       "2020-01-22  236.750000  239.50  239.49  237.47     242.67   205.23\n",
       "2020-01-23  235.039993  239.53  239.71  237.23     242.78   205.17\n",
       "2020-01-24  225.589996  239.44  239.52  237.02     242.90   204.97\n",
       "2020-01-27  222.949997  239.35  239.40  236.79     243.01   204.84\n",
       "2020-01-28  224.839996  239.35  239.47  236.58     243.13   204.93\n",
       "2020-01-29  227.149994  239.36  239.51  236.36     243.24   204.41\n",
       "2020-01-30  226.149994  239.27  239.34  236.17     243.36   204.26\n",
       "2020-01-31  216.050003  239.28  239.43  235.95     243.48   203.99"
      ]
     },
     "execution_count": 49,
     "metadata": {},
     "output_type": "execute_result"
    }
   ],
   "source": [
    "df"
   ]
  },
  {
   "cell_type": "code",
   "execution_count": null,
   "metadata": {},
   "outputs": [],
   "source": []
  },
  {
   "cell_type": "code",
   "execution_count": null,
   "metadata": {},
   "outputs": [],
   "source": []
  },
  {
   "cell_type": "code",
   "execution_count": 19,
   "metadata": {},
   "outputs": [
    {
     "data": {
      "text/html": [
       "<div>\n",
       "<style scoped>\n",
       "    .dataframe tbody tr th:only-of-type {\n",
       "        vertical-align: middle;\n",
       "    }\n",
       "\n",
       "    .dataframe tbody tr th {\n",
       "        vertical-align: top;\n",
       "    }\n",
       "\n",
       "    .dataframe thead th {\n",
       "        text-align: right;\n",
       "    }\n",
       "</style>\n",
       "<table border=\"1\" class=\"dataframe\">\n",
       "  <thead>\n",
       "    <tr style=\"text-align: right;\">\n",
       "      <th></th>\n",
       "      <th>Actual</th>\n",
       "      <th>AR</th>\n",
       "      <th>MA</th>\n",
       "      <th>ARIMA</th>\n",
       "      <th>Smoothing</th>\n",
       "      <th>Prophet</th>\n",
       "    </tr>\n",
       "    <tr>\n",
       "      <th>Date</th>\n",
       "      <th></th>\n",
       "      <th></th>\n",
       "      <th></th>\n",
       "      <th></th>\n",
       "      <th></th>\n",
       "      <th></th>\n",
       "    </tr>\n",
       "  </thead>\n",
       "  <tbody>\n",
       "    <tr>\n",
       "      <th>2020-01-02</th>\n",
       "      <td>240.100006</td>\n",
       "      <td>240.75</td>\n",
       "      <td>240.59</td>\n",
       "      <td>240.75</td>\n",
       "      <td>241.16</td>\n",
       "      <td>206.20</td>\n",
       "    </tr>\n",
       "    <tr>\n",
       "      <th>2020-01-03</th>\n",
       "      <td>238.470001</td>\n",
       "      <td>240.66</td>\n",
       "      <td>240.70</td>\n",
       "      <td>240.50</td>\n",
       "      <td>241.28</td>\n",
       "      <td>206.04</td>\n",
       "    </tr>\n",
       "    <tr>\n",
       "      <th>2020-01-06</th>\n",
       "      <td>240.300003</td>\n",
       "      <td>240.60</td>\n",
       "      <td>240.69</td>\n",
       "      <td>240.20</td>\n",
       "      <td>241.39</td>\n",
       "      <td>206.13</td>\n",
       "    </tr>\n",
       "    <tr>\n",
       "      <th>2020-01-07</th>\n",
       "      <td>238.039993</td>\n",
       "      <td>240.62</td>\n",
       "      <td>240.81</td>\n",
       "      <td>239.95</td>\n",
       "      <td>241.51</td>\n",
       "      <td>205.77</td>\n",
       "    </tr>\n",
       "    <tr>\n",
       "      <th>2020-01-08</th>\n",
       "      <td>238.220001</td>\n",
       "      <td>240.52</td>\n",
       "      <td>240.58</td>\n",
       "      <td>239.66</td>\n",
       "      <td>241.62</td>\n",
       "      <td>205.73</td>\n",
       "    </tr>\n",
       "  </tbody>\n",
       "</table>\n",
       "</div>"
      ],
      "text/plain": [
       "                Actual      AR      MA   ARIMA  Smoothing  Prophet\n",
       "Date                                                              \n",
       "2020-01-02  240.100006  240.75  240.59  240.75     241.16   206.20\n",
       "2020-01-03  238.470001  240.66  240.70  240.50     241.28   206.04\n",
       "2020-01-06  240.300003  240.60  240.69  240.20     241.39   206.13\n",
       "2020-01-07  238.039993  240.62  240.81  239.95     241.51   205.77\n",
       "2020-01-08  238.220001  240.52  240.58  239.66     241.62   205.73"
      ]
     },
     "execution_count": 19,
     "metadata": {},
     "output_type": "execute_result"
    }
   ],
   "source": [
    "df.head()"
   ]
  },
  {
   "cell_type": "code",
   "execution_count": null,
   "metadata": {},
   "outputs": [],
   "source": []
  },
  {
   "cell_type": "code",
   "execution_count": null,
   "metadata": {},
   "outputs": [],
   "source": []
  },
  {
   "cell_type": "code",
   "execution_count": 20,
   "metadata": {},
   "outputs": [
    {
     "data": {
      "text/plain": [
       "<matplotlib.axes._subplots.AxesSubplot at 0x57b72165c8>"
      ]
     },
     "execution_count": 20,
     "metadata": {},
     "output_type": "execute_result"
    },
    {
     "data": {
      "image/png": "[encoded data removed]",
      "text/plain": [
       "<Figure size 720x360 with 1 Axes>"
      ]
     },
     "metadata": {
      "needs_background": "light"
     },
     "output_type": "display_data"
    }
   ],
   "source": [
    "df.plot(figsize=(10,5))"
   ]
  },
  {
   "cell_type": "code",
   "execution_count": null,
   "metadata": {},
   "outputs": [],
   "source": []
  },
  {
   "cell_type": "code",
   "execution_count": null,
   "metadata": {},
   "outputs": [],
   "source": []
  },
  {
   "cell_type": "code",
   "execution_count": 21,
   "metadata": {},
   "outputs": [],
   "source": [
    "from sklearn.metrics import mean_squared_error \n",
    "from math import sqrt"
   ]
  },
  {
   "cell_type": "code",
   "execution_count": 24,
   "metadata": {},
   "outputs": [],
   "source": [
    "AR = df['AR']"
   ]
  },
  {
   "cell_type": "code",
   "execution_count": 25,
   "metadata": {},
   "outputs": [],
   "source": [
    "Actual = df['Actual']"
   ]
  },
  {
   "cell_type": "code",
   "execution_count": 41,
   "metadata": {},
   "outputs": [
    {
     "data": {
      "text/plain": [
       "Date\n",
       "2020-01-02    240.59\n",
       "2020-01-03    240.70\n",
       "2020-01-06    240.69\n",
       "2020-01-07    240.81\n",
       "2020-01-08    240.58\n",
       "2020-01-09    240.53\n",
       "2020-01-10    240.66\n",
       "2020-01-13    240.46\n",
       "2020-01-14    240.09\n",
       "2020-01-15    240.30\n",
       "2020-01-16    240.23\n",
       "2020-01-17    239.70\n",
       "2020-01-21    239.24\n",
       "2020-01-22    239.49\n",
       "2020-01-23    239.71\n",
       "2020-01-24    239.52\n",
       "2020-01-27    239.40\n",
       "2020-01-28    239.47\n",
       "2020-01-29    239.51\n",
       "2020-01-30    239.34\n",
       "2020-01-31    239.43\n",
       "Name: MA, dtype: float64"
      ]
     },
     "execution_count": 41,
     "metadata": {},
     "output_type": "execute_result"
    }
   ],
   "source": [
    "MA = df['MA']\n",
    "MA"
   ]
  },
  {
   "cell_type": "code",
   "execution_count": null,
   "metadata": {},
   "outputs": [],
   "source": []
  },
  {
   "cell_type": "code",
   "execution_count": 33,
   "metadata": {},
   "outputs": [],
   "source": [
    "ARIMA = df['ARIMA']"
   ]
  },
  {
   "cell_type": "code",
   "execution_count": 34,
   "metadata": {},
   "outputs": [],
   "source": [
    "Smoothing = df['Smoothing']"
   ]
  },
  {
   "cell_type": "code",
   "execution_count": 35,
   "metadata": {},
   "outputs": [],
   "source": [
    "Prophet = df['Prophet']"
   ]
  },
  {
   "cell_type": "code",
   "execution_count": 36,
   "metadata": {},
   "outputs": [],
   "source": [
    "rmse_AR = sqrt(mean_squared_error(AR, Actual))"
   ]
  },
  {
   "cell_type": "code",
   "execution_count": 37,
   "metadata": {},
   "outputs": [
    {
     "data": {
      "text/plain": [
       "8.743058776675404"
      ]
     },
     "execution_count": 37,
     "metadata": {},
     "output_type": "execute_result"
    }
   ],
   "source": [
    "rmse_AR"
   ]
  },
  {
   "cell_type": "code",
   "execution_count": 39,
   "metadata": {},
   "outputs": [],
   "source": [
    "rmse_MA = sqrt(mean_squared_error(MA, Actual))"
   ]
  },
  {
   "cell_type": "code",
   "execution_count": 40,
   "metadata": {},
   "outputs": [
    {
     "data": {
      "text/plain": [
       "8.806830224429483"
      ]
     },
     "execution_count": 40,
     "metadata": {},
     "output_type": "execute_result"
    }
   ],
   "source": [
    "rmse_MA"
   ]
  },
  {
   "cell_type": "code",
   "execution_count": 42,
   "metadata": {},
   "outputs": [],
   "source": [
    "rmse_ARIMA = sqrt(mean_squared_error(ARIMA, Actual))"
   ]
  },
  {
   "cell_type": "code",
   "execution_count": 43,
   "metadata": {},
   "outputs": [
    {
     "data": {
      "text/plain": [
       "7.213242654413365"
      ]
     },
     "execution_count": 43,
     "metadata": {},
     "output_type": "execute_result"
    }
   ],
   "source": [
    "rmse_ARIMA"
   ]
  },
  {
   "cell_type": "code",
   "execution_count": 44,
   "metadata": {},
   "outputs": [],
   "source": [
    "rmse_Smoothing = sqrt(mean_squared_error(Smoothing, Actual))"
   ]
  },
  {
   "cell_type": "code",
   "execution_count": 46,
   "metadata": {},
   "outputs": [
    {
     "data": {
      "text/plain": [
       "11.02481960802732"
      ]
     },
     "execution_count": 46,
     "metadata": {},
     "output_type": "execute_result"
    }
   ],
   "source": [
    "rmse_Smoothing"
   ]
  },
  {
   "cell_type": "code",
   "execution_count": 47,
   "metadata": {},
   "outputs": [],
   "source": [
    "rmse_Prophet = sqrt(mean_squared_error(Prophet, Actual))"
   ]
  },
  {
   "cell_type": "code",
   "execution_count": 48,
   "metadata": {},
   "outputs": [
    {
     "data": {
      "text/plain": [
       "29.981861092397676"
      ]
     },
     "execution_count": 48,
     "metadata": {},
     "output_type": "execute_result"
    }
   ],
   "source": [
    "rmse_Prophet"
   ]
  },
  {
   "cell_type": "code",
   "execution_count": null,
   "metadata": {},
   "outputs": [],
   "source": []
  },
  {
   "cell_type": "code",
   "execution_count": null,
   "metadata": {},
   "outputs": [],
   "source": []
  },
  {
   "cell_type": "code",
   "execution_count": null,
   "metadata": {},
   "outputs": [],
   "source": []
  },
  {
   "cell_type": "code",
   "execution_count": 31,
   "metadata": {},
   "outputs": [],
   "source": []
  },
  {
   "cell_type": "code",
   "execution_count": null,
   "metadata": {},
   "outputs": [],
   "source": []
  },
  {
   "cell_type": "code",
   "execution_count": null,
   "metadata": {},
   "outputs": [],
   "source": []
  },
  {
   "cell_type": "code",
   "execution_count": 28,
   "metadata": {},
   "outputs": [],
   "source": []
  },
  {
   "cell_type": "code",
   "execution_count": null,
   "metadata": {},
   "outputs": [],
   "source": []
  },
  {
   "cell_type": "code",
   "execution_count": null,
   "metadata": {},
   "outputs": [],
   "source": []
  },
  {
   "cell_type": "code",
   "execution_count": null,
   "metadata": {},
   "outputs": [],
   "source": []
  },
  {
   "cell_type": "code",
   "execution_count": null,
   "metadata": {},
   "outputs": [],
   "source": []
  },
  {
   "cell_type": "code",
   "execution_count": null,
   "metadata": {},
   "outputs": [],
   "source": []
  },
  {
   "cell_type": "code",
   "execution_count": null,
   "metadata": {},
   "outputs": [],
   "source": []
  },
  {
   "cell_type": "code",
   "execution_count": null,
   "metadata": {},
   "outputs": [],
   "source": []
  },
  {
   "cell_type": "code",
   "execution_count": null,
   "metadata": {},
   "outputs": [],
   "source": []
  },
  {
   "cell_type": "code",
   "execution_count": null,
   "metadata": {},
   "outputs": [],
   "source": []
  },
  {
   "cell_type": "code",
   "execution_count": 11,
   "metadata": {},
   "outputs": [
    {
     "name": "stdout",
     "output_type": "stream",
     "text": [
      "<class 'pandas.core.frame.DataFrame'>\n",
      "DatetimeIndex: 21 entries, 2020-01-02 to 2020-01-31\n",
      "Data columns (total 6 columns):\n",
      " #   Column     Non-Null Count  Dtype  \n",
      "---  ------     --------------  -----  \n",
      " 0   Actual     21 non-null     float64\n",
      " 1   AR         21 non-null     float64\n",
      " 2   MA         21 non-null     float64\n",
      " 3   ARIMA      21 non-null     float64\n",
      " 4   Smoothing  21 non-null     float64\n",
      " 5   Prophet    21 non-null     float64\n",
      "dtypes: float64(6)\n",
      "memory usage: 1.1 KB\n"
     ]
    }
   ],
   "source": [
    "df.info()"
   ]
  },
  {
   "cell_type": "code",
   "execution_count": null,
   "metadata": {},
   "outputs": [],
   "source": []
  },
  {
   "cell_type": "code",
   "execution_count": null,
   "metadata": {},
   "outputs": [],
   "source": []
  },
  {
   "cell_type": "code",
   "execution_count": null,
   "metadata": {},
   "outputs": [],
   "source": []
  },
  {
   "cell_type": "code",
   "execution_count": null,
   "metadata": {},
   "outputs": [],
   "source": []
  },
  {
   "cell_type": "code",
   "execution_count": null,
   "metadata": {},
   "outputs": [],
   "source": []
  }
 ],
 "metadata": {
  "kernelspec": {
   "display_name": "Python 3",
   "language": "python",
   "name": "python3"
  },
  "language_info": {
   "codemirror_mode": {
    "name": "ipython",
    "version": 3
   },
   "file_extension": ".py",
   "mimetype": "text/x-python",
   "name": "python",
   "nbconvert_exporter": "python",
   "pygments_lexer": "ipython3",
   "version": "3.7.6"
  }
 },
 "nbformat": 4,
 "nbformat_minor": 4
}
