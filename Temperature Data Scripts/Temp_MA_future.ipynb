{
 "cells": [
  {
   "cell_type": "code",
   "execution_count": 1,
   "metadata": {},
   "outputs": [],
   "source": [
    "import pandas as pd\n",
    "import numpy as np\n",
    "%matplotlib inline"
   ]
  },
  {
   "cell_type": "code",
   "execution_count": 2,
   "metadata": {},
   "outputs": [],
   "source": [
    "df = pd.read_csv(\"C:/Users/RAJ BATHANI/Downloads/TimeSeries Datasets/Temperature.csv\", index_col = ['Date'], parse_dates = ['Date'])"
   ]
  },
  {
   "cell_type": "code",
   "execution_count": 3,
   "metadata": {},
   "outputs": [],
   "source": [
    "df.index.freq = 'D'"
   ]
  },
  {
   "cell_type": "code",
   "execution_count": 5,
   "metadata": {},
   "outputs": [],
   "source": [
    "from statsmodels.tsa.ar_model import AR, ARResults"
   ]
  },
  {
   "cell_type": "code",
   "execution_count": null,
   "metadata": {},
   "outputs": [],
   "source": []
  },
  {
   "cell_type": "code",
   "execution_count": 6,
   "metadata": {},
   "outputs": [
    {
     "name": "stderr",
     "output_type": "stream",
     "text": [
      "C:\\ProgramData\\Anaconda3\\lib\\site-packages\\statsmodels\\tsa\\ar_model.py:691: FutureWarning: \n",
      "statsmodels.tsa.AR has been deprecated in favor of statsmodels.tsa.AutoReg and\n",
      "statsmodels.tsa.SARIMAX.\n",
      "\n",
      "AutoReg adds the ability to specify exogenous variables, include time trends,\n",
      "and add seasonal dummies. The AutoReg API differs from AR since the model is\n",
      "treated as immutable, and so the entire specification including the lag\n",
      "length must be specified when creating the model. This change is too\n",
      "substantial to incorporate into the existing AR api. The function\n",
      "ar_select_order performs lag length selection for AutoReg models.\n",
      "\n",
      "AutoReg only estimates parameters using conditional MLE (OLS). Use SARIMAX to\n",
      "estimate ARX and related models using full MLE via the Kalman Filter.\n",
      "\n",
      "To silence this warning and continue using AR until it is removed, use:\n",
      "\n",
      "import warnings\n",
      "warnings.filterwarnings('ignore', 'statsmodels.tsa.ar_model.AR', FutureWarning)\n",
      "\n",
      "  warnings.warn(AR_DEPRECATION_WARN, FutureWarning)\n"
     ]
    },
    {
     "data": {
      "text/plain": [
       "29"
      ]
     },
     "execution_count": 6,
     "metadata": {},
     "output_type": "execute_result"
    }
   ],
   "source": [
    "model_ar = AR(df['tempmin'])\n",
    "modelfit1 = model_ar.fit()\n",
    "predictions1 = modelfit1.predict(start=len(df), end=len(df)+31)\n",
    "modelfit1.k_ar"
   ]
  },
  {
   "cell_type": "code",
   "execution_count": 7,
   "metadata": {},
   "outputs": [
    {
     "data": {
      "text/html": [
       "<div>\n",
       "<style scoped>\n",
       "    .dataframe tbody tr th:only-of-type {\n",
       "        vertical-align: middle;\n",
       "    }\n",
       "\n",
       "    .dataframe tbody tr th {\n",
       "        vertical-align: top;\n",
       "    }\n",
       "\n",
       "    .dataframe thead th {\n",
       "        text-align: right;\n",
       "    }\n",
       "</style>\n",
       "<table border=\"1\" class=\"dataframe\">\n",
       "  <thead>\n",
       "    <tr style=\"text-align: right;\">\n",
       "      <th></th>\n",
       "      <th>tempmin</th>\n",
       "      <th>t</th>\n",
       "      <th>residuals</th>\n",
       "    </tr>\n",
       "    <tr>\n",
       "      <th>Date</th>\n",
       "      <th></th>\n",
       "      <th></th>\n",
       "      <th></th>\n",
       "    </tr>\n",
       "  </thead>\n",
       "  <tbody>\n",
       "    <tr>\n",
       "      <th>1981-01-01</th>\n",
       "      <td>20.7</td>\n",
       "      <td>NaN</td>\n",
       "      <td>NaN</td>\n",
       "    </tr>\n",
       "    <tr>\n",
       "      <th>1981-01-02</th>\n",
       "      <td>17.9</td>\n",
       "      <td>20.7</td>\n",
       "      <td>-2.8</td>\n",
       "    </tr>\n",
       "    <tr>\n",
       "      <th>1981-01-03</th>\n",
       "      <td>18.8</td>\n",
       "      <td>17.9</td>\n",
       "      <td>0.9</td>\n",
       "    </tr>\n",
       "    <tr>\n",
       "      <th>1981-01-04</th>\n",
       "      <td>14.6</td>\n",
       "      <td>18.8</td>\n",
       "      <td>-4.2</td>\n",
       "    </tr>\n",
       "    <tr>\n",
       "      <th>1981-01-05</th>\n",
       "      <td>15.8</td>\n",
       "      <td>14.6</td>\n",
       "      <td>1.2</td>\n",
       "    </tr>\n",
       "  </tbody>\n",
       "</table>\n",
       "</div>"
      ],
      "text/plain": [
       "            tempmin     t  residuals\n",
       "Date                                \n",
       "1981-01-01     20.7   NaN        NaN\n",
       "1981-01-02     17.9  20.7       -2.8\n",
       "1981-01-03     18.8  17.9        0.9\n",
       "1981-01-04     14.6  18.8       -4.2\n",
       "1981-01-05     15.8  14.6        1.2"
      ]
     },
     "execution_count": 7,
     "metadata": {},
     "output_type": "execute_result"
    }
   ],
   "source": [
    "df['t'] = df['tempmin'].shift(1)\n",
    "df['residuals'] = df['tempmin'] - df['t']\n",
    "df.head()"
   ]
  },
  {
   "cell_type": "code",
   "execution_count": 8,
   "metadata": {},
   "outputs": [
    {
     "data": {
      "text/plain": [
       "<bound method NDFrame.head of Date\n",
       "1981-01-02   -2.8\n",
       "1981-01-03    0.9\n",
       "1981-01-04   -4.2\n",
       "1981-01-05    1.2\n",
       "1981-01-06    0.0\n",
       "             ... \n",
       "1990-12-27   -0.6\n",
       "1990-12-28   -0.4\n",
       "1990-12-29   -0.1\n",
       "1990-12-30    2.2\n",
       "1990-12-31   -2.7\n",
       "Freq: D, Name: residuals, Length: 3651, dtype: float64>"
      ]
     },
     "execution_count": 8,
     "metadata": {},
     "output_type": "execute_result"
    }
   ],
   "source": [
    "t2 = df.residuals[1:]\n",
    "len(t2)\n",
    "t2.head"
   ]
  },
  {
   "cell_type": "code",
   "execution_count": 9,
   "metadata": {},
   "outputs": [
    {
     "name": "stderr",
     "output_type": "stream",
     "text": [
      "C:\\ProgramData\\Anaconda3\\lib\\site-packages\\statsmodels\\tsa\\ar_model.py:691: FutureWarning: \n",
      "statsmodels.tsa.AR has been deprecated in favor of statsmodels.tsa.AutoReg and\n",
      "statsmodels.tsa.SARIMAX.\n",
      "\n",
      "AutoReg adds the ability to specify exogenous variables, include time trends,\n",
      "and add seasonal dummies. The AutoReg API differs from AR since the model is\n",
      "treated as immutable, and so the entire specification including the lag\n",
      "length must be specified when creating the model. This change is too\n",
      "substantial to incorporate into the existing AR api. The function\n",
      "ar_select_order performs lag length selection for AutoReg models.\n",
      "\n",
      "AutoReg only estimates parameters using conditional MLE (OLS). Use SARIMAX to\n",
      "estimate ARX and related models using full MLE via the Kalman Filter.\n",
      "\n",
      "To silence this warning and continue using AR until it is removed, use:\n",
      "\n",
      "import warnings\n",
      "warnings.filterwarnings('ignore', 'statsmodels.tsa.ar_model.AR', FutureWarning)\n",
      "\n",
      "  warnings.warn(AR_DEPRECATION_WARN, FutureWarning)\n"
     ]
    }
   ],
   "source": [
    "model2 = AR(t2)\n",
    "mode2_fit1 = model2.fit()"
   ]
  },
  {
   "cell_type": "code",
   "execution_count": 10,
   "metadata": {},
   "outputs": [
    {
     "data": {
      "text/plain": [
       "29"
      ]
     },
     "execution_count": 10,
     "metadata": {},
     "output_type": "execute_result"
    }
   ],
   "source": [
    "mode2_fit1.k_ar"
   ]
  },
  {
   "cell_type": "code",
   "execution_count": 15,
   "metadata": {},
   "outputs": [],
   "source": [
    "pred_residuals = mode2_fit1.predict(start=len(t2), end=len(t2)+31)"
   ]
  },
  {
   "cell_type": "code",
   "execution_count": null,
   "metadata": {},
   "outputs": [],
   "source": []
  },
  {
   "cell_type": "code",
   "execution_count": 16,
   "metadata": {},
   "outputs": [
    {
     "data": {
      "text/plain": [
       "1991-01-01    0.322590\n",
       "1991-01-02    0.582578\n",
       "1991-01-03    0.123257\n",
       "1991-01-04   -0.040310\n",
       "1991-01-05   -0.134317\n",
       "1991-01-06   -0.125579\n",
       "1991-01-07    0.034403\n",
       "1991-01-08   -0.023100\n",
       "1991-01-09   -0.047252\n",
       "1991-01-10   -0.079955\n",
       "1991-01-11   -0.037601\n",
       "1991-01-12    0.115599\n",
       "1991-01-13    0.065171\n",
       "1991-01-14    0.009092\n",
       "1991-01-15    0.000940\n",
       "1991-01-16    0.043047\n",
       "1991-01-17    0.058989\n",
       "1991-01-18   -0.187880\n",
       "1991-01-19   -0.066174\n",
       "1991-01-20    0.070752\n",
       "1991-01-21    0.015692\n",
       "1991-01-22   -0.009323\n",
       "1991-01-23    0.016126\n",
       "1991-01-24    0.039994\n",
       "1991-01-25    0.027028\n",
       "1991-01-26   -0.045801\n",
       "1991-01-27   -0.012629\n",
       "1991-01-28   -0.019218\n",
       "1991-01-29    0.031564\n",
       "1991-01-30    0.004498\n",
       "1991-01-31   -0.011034\n",
       "1991-02-01   -0.002883\n",
       "Freq: D, dtype: float64"
      ]
     },
     "execution_count": 16,
     "metadata": {},
     "output_type": "execute_result"
    }
   ],
   "source": [
    "pred_residuals"
   ]
  },
  {
   "cell_type": "code",
   "execution_count": null,
   "metadata": {},
   "outputs": [],
   "source": []
  },
  {
   "cell_type": "code",
   "execution_count": 17,
   "metadata": {},
   "outputs": [],
   "source": [
    "final_pred = predictions1+pred_residuals"
   ]
  },
  {
   "cell_type": "code",
   "execution_count": null,
   "metadata": {},
   "outputs": [],
   "source": []
  },
  {
   "cell_type": "code",
   "execution_count": 18,
   "metadata": {},
   "outputs": [
    {
     "data": {
      "text/plain": [
       "1991-01-01    13.481981\n",
       "1991-01-02    14.213109\n",
       "1991-01-03    13.828429\n",
       "1991-01-04    13.588993\n",
       "1991-01-05    13.348390\n",
       "1991-01-06    13.223306\n",
       "1991-01-07    13.430674\n",
       "1991-01-08    13.347622\n",
       "1991-01-09    13.280783\n",
       "1991-01-10    13.159755\n",
       "1991-01-11    13.128026\n",
       "1991-01-12    13.388929\n",
       "1991-01-13    13.388771\n",
       "1991-01-14    13.315854\n",
       "1991-01-15    13.286476\n",
       "1991-01-16    13.356553\n",
       "1991-01-17    13.398195\n",
       "1991-01-18    12.956214\n",
       "1991-01-19    12.993014\n",
       "1991-01-20    13.196558\n",
       "1991-01-21    13.148316\n",
       "1991-01-22    13.085692\n",
       "1991-01-23    13.123370\n",
       "1991-01-24    13.165029\n",
       "1991-01-25    13.153144\n",
       "1991-01-26    13.015278\n",
       "1991-01-27    13.019155\n",
       "1991-01-28    12.979549\n",
       "1991-01-29    13.029068\n",
       "1991-01-30    12.996982\n",
       "1991-01-31    12.957765\n",
       "1991-02-01    12.944389\n",
       "Freq: D, dtype: float64"
      ]
     },
     "execution_count": 18,
     "metadata": {},
     "output_type": "execute_result"
    }
   ],
   "source": [
    "final_pred"
   ]
  },
  {
   "cell_type": "code",
   "execution_count": null,
   "metadata": {},
   "outputs": [],
   "source": []
  },
  {
   "cell_type": "code",
   "execution_count": null,
   "metadata": {},
   "outputs": [],
   "source": []
  }
 ],
 "metadata": {
  "kernelspec": {
   "display_name": "Python 3",
   "language": "python",
   "name": "python3"
  },
  "language_info": {
   "codemirror_mode": {
    "name": "ipython",
    "version": 3
   },
   "file_extension": ".py",
   "mimetype": "text/x-python",
   "name": "python",
   "nbconvert_exporter": "python",
   "pygments_lexer": "ipython3",
   "version": "3.7.6"
  }
 },
 "nbformat": 4,
 "nbformat_minor": 4
}
