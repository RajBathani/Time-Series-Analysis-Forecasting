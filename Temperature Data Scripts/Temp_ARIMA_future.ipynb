{
 "cells": [
  {
   "cell_type": "code",
   "execution_count": 1,
   "metadata": {},
   "outputs": [],
   "source": [
    "import pandas as pd\n",
    "import numpy as np\n",
    "%matplotlib inline"
   ]
  },
  {
   "cell_type": "code",
   "execution_count": 2,
   "metadata": {},
   "outputs": [],
   "source": [
    "df = pd.read_csv(\"C:/Users/RAJ BATHANI/Downloads/TimeSeries Datasets/Temperature.csv\", index_col = ['Date'], parse_dates = ['Date'])"
   ]
  },
  {
   "cell_type": "code",
   "execution_count": 3,
   "metadata": {},
   "outputs": [],
   "source": [
    "df.index.freq = 'D'"
   ]
  },
  {
   "cell_type": "code",
   "execution_count": 4,
   "metadata": {},
   "outputs": [],
   "source": [
    "from statsmodels.tsa.arima_model import ARMA, ARIMA, ARMAResults, ARIMAResults"
   ]
  },
  {
   "cell_type": "code",
   "execution_count": 5,
   "metadata": {},
   "outputs": [],
   "source": [
    "from pmdarima import auto_arima"
   ]
  },
  {
   "cell_type": "code",
   "execution_count": 6,
   "metadata": {},
   "outputs": [
    {
     "name": "stderr",
     "output_type": "stream",
     "text": [
      "C:\\ProgramData\\Anaconda3\\lib\\site-packages\\statsmodels\\tsa\\statespace\\sarimax.py:975: UserWarning: Non-invertible starting MA parameters found. Using zeros as starting parameters.\n",
      "  warn('Non-invertible starting MA parameters found.'\n",
      "C:\\ProgramData\\Anaconda3\\lib\\site-packages\\statsmodels\\base\\model.py:568: ConvergenceWarning: Maximum Likelihood optimization failed to converge. Check mle_retvals\n",
      "  \"Check mle_retvals\", ConvergenceWarning)\n"
     ]
    },
    {
     "data": {
      "text/html": [
       "<table class=\"simpletable\">\n",
       "<caption>SARIMAX Results</caption>\n",
       "<tr>\n",
       "  <th>Dep. Variable:</th>           <td>y</td>        <th>  No. Observations:  </th>   <td>3652</td>   \n",
       "</tr>\n",
       "<tr>\n",
       "  <th>Model:</th>           <td>SARIMAX(3, 0, 1)</td> <th>  Log Likelihood     </th> <td>-8386.200</td>\n",
       "</tr>\n",
       "<tr>\n",
       "  <th>Date:</th>            <td>Fri, 19 Jun 2020</td> <th>  AIC                </th> <td>16784.399</td>\n",
       "</tr>\n",
       "<tr>\n",
       "  <th>Time:</th>                <td>18:48:24</td>     <th>  BIC                </th> <td>16821.617</td>\n",
       "</tr>\n",
       "<tr>\n",
       "  <th>Sample:</th>                  <td>0</td>        <th>  HQIC               </th> <td>16797.653</td>\n",
       "</tr>\n",
       "<tr>\n",
       "  <th></th>                      <td> - 3652</td>     <th>                     </th>     <td> </td>    \n",
       "</tr>\n",
       "<tr>\n",
       "  <th>Covariance Type:</th>        <td>opg</td>       <th>                     </th>     <td> </td>    \n",
       "</tr>\n",
       "</table>\n",
       "<table class=\"simpletable\">\n",
       "<tr>\n",
       "      <td></td>         <th>coef</th>     <th>std err</th>      <th>z</th>      <th>P>|z|</th>  <th>[0.025</th>    <th>0.975]</th>  \n",
       "</tr>\n",
       "<tr>\n",
       "  <th>intercept</th> <td>    0.0562</td> <td>    0.018</td> <td>    3.129</td> <td> 0.002</td> <td>    0.021</td> <td>    0.091</td>\n",
       "</tr>\n",
       "<tr>\n",
       "  <th>ar.L1</th>     <td>    1.4854</td> <td>    0.018</td> <td>   80.404</td> <td> 0.000</td> <td>    1.449</td> <td>    1.522</td>\n",
       "</tr>\n",
       "<tr>\n",
       "  <th>ar.L2</th>     <td>   -0.6208</td> <td>    0.027</td> <td>  -23.393</td> <td> 0.000</td> <td>   -0.673</td> <td>   -0.569</td>\n",
       "</tr>\n",
       "<tr>\n",
       "  <th>ar.L3</th>     <td>    0.1305</td> <td>    0.018</td> <td>    7.398</td> <td> 0.000</td> <td>    0.096</td> <td>    0.165</td>\n",
       "</tr>\n",
       "<tr>\n",
       "  <th>ma.L1</th>     <td>   -0.8928</td> <td>    0.012</td> <td>  -76.114</td> <td> 0.000</td> <td>   -0.916</td> <td>   -0.870</td>\n",
       "</tr>\n",
       "<tr>\n",
       "  <th>sigma2</th>    <td>    5.7794</td> <td>    0.127</td> <td>   45.367</td> <td> 0.000</td> <td>    5.530</td> <td>    6.029</td>\n",
       "</tr>\n",
       "</table>\n",
       "<table class=\"simpletable\">\n",
       "<tr>\n",
       "  <th>Ljung-Box (Q):</th>          <td>46.02</td> <th>  Jarque-Bera (JB):  </th> <td>16.87</td>\n",
       "</tr>\n",
       "<tr>\n",
       "  <th>Prob(Q):</th>                <td>0.24</td>  <th>  Prob(JB):          </th> <td>0.00</td> \n",
       "</tr>\n",
       "<tr>\n",
       "  <th>Heteroskedasticity (H):</th> <td>0.86</td>  <th>  Skew:              </th> <td>0.08</td> \n",
       "</tr>\n",
       "<tr>\n",
       "  <th>Prob(H) (two-sided):</th>    <td>0.01</td>  <th>  Kurtosis:          </th> <td>3.29</td> \n",
       "</tr>\n",
       "</table><br/><br/>Warnings:<br/>[1] Covariance matrix calculated using the outer product of gradients (complex-step)."
      ],
      "text/plain": [
       "<class 'statsmodels.iolib.summary.Summary'>\n",
       "\"\"\"\n",
       "                               SARIMAX Results                                \n",
       "==============================================================================\n",
       "Dep. Variable:                      y   No. Observations:                 3652\n",
       "Model:               SARIMAX(3, 0, 1)   Log Likelihood               -8386.200\n",
       "Date:                Fri, 19 Jun 2020   AIC                          16784.399\n",
       "Time:                        18:48:24   BIC                          16821.617\n",
       "Sample:                             0   HQIC                         16797.653\n",
       "                               - 3652                                         \n",
       "Covariance Type:                  opg                                         \n",
       "==============================================================================\n",
       "                 coef    std err          z      P>|z|      [0.025      0.975]\n",
       "------------------------------------------------------------------------------\n",
       "intercept      0.0562      0.018      3.129      0.002       0.021       0.091\n",
       "ar.L1          1.4854      0.018     80.404      0.000       1.449       1.522\n",
       "ar.L2         -0.6208      0.027    -23.393      0.000      -0.673      -0.569\n",
       "ar.L3          0.1305      0.018      7.398      0.000       0.096       0.165\n",
       "ma.L1         -0.8928      0.012    -76.114      0.000      -0.916      -0.870\n",
       "sigma2         5.7794      0.127     45.367      0.000       5.530       6.029\n",
       "===================================================================================\n",
       "Ljung-Box (Q):                       46.02   Jarque-Bera (JB):                16.87\n",
       "Prob(Q):                              0.24   Prob(JB):                         0.00\n",
       "Heteroskedasticity (H):               0.86   Skew:                             0.08\n",
       "Prob(H) (two-sided):                  0.01   Kurtosis:                         3.29\n",
       "===================================================================================\n",
       "\n",
       "Warnings:\n",
       "[1] Covariance matrix calculated using the outer product of gradients (complex-step).\n",
       "\"\"\""
      ]
     },
     "execution_count": 6,
     "metadata": {},
     "output_type": "execute_result"
    }
   ],
   "source": [
    "auto_arima(df['tempmin'], Seasonal=True).summary()"
   ]
  },
  {
   "cell_type": "code",
   "execution_count": 8,
   "metadata": {},
   "outputs": [
    {
     "data": {
      "text/html": [
       "<table class=\"simpletable\">\n",
       "<caption>ARMA Model Results</caption>\n",
       "<tr>\n",
       "  <th>Dep. Variable:</th>      <td>tempmin</td>     <th>  No. Observations:  </th>   <td>3652</td>   \n",
       "</tr>\n",
       "<tr>\n",
       "  <th>Model:</th>            <td>ARMA(3, 1)</td>    <th>  Log Likelihood     </th> <td>-8386.200</td>\n",
       "</tr>\n",
       "<tr>\n",
       "  <th>Method:</th>             <td>css-mle</td>     <th>  S.D. of innovations</th>   <td>2.404</td>  \n",
       "</tr>\n",
       "<tr>\n",
       "  <th>Date:</th>          <td>Fri, 19 Jun 2020</td> <th>  AIC                </th> <td>16784.399</td>\n",
       "</tr>\n",
       "<tr>\n",
       "  <th>Time:</th>              <td>18:51:24</td>     <th>  BIC                </th> <td>16821.617</td>\n",
       "</tr>\n",
       "<tr>\n",
       "  <th>Sample:</th>           <td>01-01-1981</td>    <th>  HQIC               </th> <td>16797.653</td>\n",
       "</tr>\n",
       "<tr>\n",
       "  <th></th>                 <td>- 12-31-1990</td>   <th>                     </th>     <td> </td>    \n",
       "</tr>\n",
       "</table>\n",
       "<table class=\"simpletable\">\n",
       "<tr>\n",
       "        <td></td>           <th>coef</th>     <th>std err</th>      <th>z</th>      <th>P>|z|</th>  <th>[0.025</th>    <th>0.975]</th>  \n",
       "</tr>\n",
       "<tr>\n",
       "  <th>const</th>         <td>   11.4735</td> <td>    0.847</td> <td>   13.549</td> <td> 0.000</td> <td>    9.814</td> <td>   13.133</td>\n",
       "</tr>\n",
       "<tr>\n",
       "  <th>ar.L1.tempmin</th> <td>    1.4854</td> <td>    0.019</td> <td>   78.797</td> <td> 0.000</td> <td>    1.448</td> <td>    1.522</td>\n",
       "</tr>\n",
       "<tr>\n",
       "  <th>ar.L2.tempmin</th> <td>   -0.6208</td> <td>    0.028</td> <td>  -22.289</td> <td> 0.000</td> <td>   -0.675</td> <td>   -0.566</td>\n",
       "</tr>\n",
       "<tr>\n",
       "  <th>ar.L3.tempmin</th> <td>    0.1305</td> <td>    0.017</td> <td>    7.505</td> <td> 0.000</td> <td>    0.096</td> <td>    0.165</td>\n",
       "</tr>\n",
       "<tr>\n",
       "  <th>ma.L1.tempmin</th> <td>   -0.8928</td> <td>    0.010</td> <td>  -88.143</td> <td> 0.000</td> <td>   -0.913</td> <td>   -0.873</td>\n",
       "</tr>\n",
       "</table>\n",
       "<table class=\"simpletable\">\n",
       "<caption>Roots</caption>\n",
       "<tr>\n",
       "    <td></td>   <th>            Real</th>  <th>         Imaginary</th> <th>         Modulus</th>  <th>        Frequency</th>\n",
       "</tr>\n",
       "<tr>\n",
       "  <th>AR.1</th> <td>           1.0077</td> <td>          -0.0000j</td> <td>           1.0077</td> <td>          -0.0000</td>\n",
       "</tr>\n",
       "<tr>\n",
       "  <th>AR.2</th> <td>           1.8745</td> <td>          -2.0224j</td> <td>           2.7575</td> <td>          -0.1310</td>\n",
       "</tr>\n",
       "<tr>\n",
       "  <th>AR.3</th> <td>           1.8745</td> <td>          +2.0224j</td> <td>           2.7575</td> <td>           0.1310</td>\n",
       "</tr>\n",
       "<tr>\n",
       "  <th>MA.1</th> <td>           1.1201</td> <td>          +0.0000j</td> <td>           1.1201</td> <td>           0.0000</td>\n",
       "</tr>\n",
       "</table>"
      ],
      "text/plain": [
       "<class 'statsmodels.iolib.summary.Summary'>\n",
       "\"\"\"\n",
       "                              ARMA Model Results                              \n",
       "==============================================================================\n",
       "Dep. Variable:                tempmin   No. Observations:                 3652\n",
       "Model:                     ARMA(3, 1)   Log Likelihood               -8386.200\n",
       "Method:                       css-mle   S.D. of innovations              2.404\n",
       "Date:                Fri, 19 Jun 2020   AIC                          16784.399\n",
       "Time:                        18:51:24   BIC                          16821.617\n",
       "Sample:                    01-01-1981   HQIC                         16797.653\n",
       "                         - 12-31-1990                                         \n",
       "=================================================================================\n",
       "                    coef    std err          z      P>|z|      [0.025      0.975]\n",
       "---------------------------------------------------------------------------------\n",
       "const            11.4735      0.847     13.549      0.000       9.814      13.133\n",
       "ar.L1.tempmin     1.4854      0.019     78.797      0.000       1.448       1.522\n",
       "ar.L2.tempmin    -0.6208      0.028    -22.289      0.000      -0.675      -0.566\n",
       "ar.L3.tempmin     0.1305      0.017      7.505      0.000       0.096       0.165\n",
       "ma.L1.tempmin    -0.8928      0.010    -88.143      0.000      -0.913      -0.873\n",
       "                                    Roots                                    \n",
       "=============================================================================\n",
       "                  Real          Imaginary           Modulus         Frequency\n",
       "-----------------------------------------------------------------------------\n",
       "AR.1            1.0077           -0.0000j            1.0077           -0.0000\n",
       "AR.2            1.8745           -2.0224j            2.7575           -0.1310\n",
       "AR.3            1.8745           +2.0224j            2.7575            0.1310\n",
       "MA.1            1.1201           +0.0000j            1.1201            0.0000\n",
       "-----------------------------------------------------------------------------\n",
       "\"\"\""
      ]
     },
     "execution_count": 8,
     "metadata": {},
     "output_type": "execute_result"
    }
   ],
   "source": [
    "model = ARIMA(df['tempmin'],order=(3,0,1))\n",
    "results = model.fit()\n",
    "results.summary()"
   ]
  },
  {
   "cell_type": "code",
   "execution_count": 9,
   "metadata": {},
   "outputs": [],
   "source": [
    "predictions = results.predict(start=len(df), end=len(df)+31, typ='levels')"
   ]
  },
  {
   "cell_type": "code",
   "execution_count": 10,
   "metadata": {},
   "outputs": [
    {
     "data": {
      "text/plain": [
       "1991-01-01    12.988762\n",
       "1991-01-02    13.328170\n",
       "1991-01-03    13.486939\n",
       "1991-01-04    13.510608\n",
       "1991-01-05    13.491500\n",
       "1991-01-06    13.469145\n",
       "1991-01-07    13.450889\n",
       "1991-01-08    13.435157\n",
       "1991-01-09    13.420204\n",
       "1991-01-10    13.405377\n",
       "1991-01-11    13.390582\n",
       "1991-01-12    13.375860\n",
       "1991-01-13    13.361242\n",
       "1991-01-14    13.346736\n",
       "1991-01-15    13.332344\n",
       "1991-01-16    13.318062\n",
       "1991-01-17    13.303891\n",
       "1991-01-18    13.289828\n",
       "1991-01-19    13.275873\n",
       "1991-01-20    13.262026\n",
       "1991-01-21    13.248285\n",
       "1991-01-22    13.234650\n",
       "1991-01-23    13.221119\n",
       "1991-01-24    13.207692\n",
       "1991-01-25    13.194368\n",
       "1991-01-26    13.181147\n",
       "1991-01-27    13.168028\n",
       "1991-01-28    13.155009\n",
       "1991-01-29    13.142090\n",
       "1991-01-30    13.129270\n",
       "1991-01-31    13.116549\n",
       "1991-02-01    13.103926\n",
       "Freq: D, dtype: float64"
      ]
     },
     "execution_count": 10,
     "metadata": {},
     "output_type": "execute_result"
    }
   ],
   "source": [
    "predictions"
   ]
  },
  {
   "cell_type": "code",
   "execution_count": null,
   "metadata": {},
   "outputs": [],
   "source": []
  },
  {
   "cell_type": "code",
   "execution_count": null,
   "metadata": {},
   "outputs": [],
   "source": []
  }
 ],
 "metadata": {
  "kernelspec": {
   "display_name": "Python 3",
   "language": "python",
   "name": "python3"
  },
  "language_info": {
   "codemirror_mode": {
    "name": "ipython",
    "version": 3
   },
   "file_extension": ".py",
   "mimetype": "text/x-python",
   "name": "python",
   "nbconvert_exporter": "python",
   "pygments_lexer": "ipython3",
   "version": "3.7.6"
  }
 },
 "nbformat": 4,
 "nbformat_minor": 4
}
